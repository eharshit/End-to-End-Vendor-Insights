{
 "cells": [
  {
   "cell_type": "code",
   "execution_count": 2,
   "id": "05da9c2c",
   "metadata": {},
   "outputs": [],
   "source": [
    "import pandas as pd\n",
    "import os\n",
    "from sqlalchemy import create_engine, inspect"
   ]
  },
  {
   "cell_type": "code",
   "execution_count": 12,
   "id": "d3aca53c",
   "metadata": {},
   "outputs": [],
   "source": [
    "# Create SQLite DB connection\n",
    "engine = create_engine(\"sqlite:///inventory.db\")\n",
    "inspector = inspect(engine)"
   ]
  },
  {
   "cell_type": "code",
   "execution_count": 13,
   "id": "5c89056b",
   "metadata": {},
   "outputs": [],
   "source": [
    "# Ingest function with table existence check\n",
    "def ingest_db(df, table_name, engine):\n",
    "    if table_name in inspector.get_table_names():\n",
    "        print(f\"Skipped: Table '{table_name}' already exists.\")\n",
    "    else:\n",
    "        df.to_sql(table_name, con=engine, if_exists='replace', index=False)\n",
    "        print(f\"Uploaded: Table '{table_name}' successfully.\")"
   ]
  },
  {
   "cell_type": "code",
   "execution_count": 5,
   "id": "329a8ddf",
   "metadata": {},
   "outputs": [
    {
     "name": "stdout",
     "output_type": "stream",
     "text": [
      "begin_inventory.csv: (206529, 9)\n",
      "Skipped: Table 'begin_inventory' already exists.\n",
      "end_inventory.csv: (224489, 9)\n",
      "Skipped: Table 'end_inventory' already exists.\n",
      "purchases.csv: (2372474, 16)\n",
      "Skipped: Table 'purchases' already exists.\n",
      "purchase_prices.csv: (12261, 9)\n",
      "Skipped: Table 'purchase_prices' already exists.\n",
      "sales.csv: (12825363, 14)\n",
      "Skipped: Table 'sales' already exists.\n",
      "vendor_invoice.csv: (5543, 10)\n",
      "Skipped: Table 'vendor_invoice' already exists.\n"
     ]
    }
   ],
   "source": [
    "# Ingest all .csv files from 'data/' folder\n",
    "data_folder = 'data'\n",
    "for file in os.listdir(data_folder):\n",
    "    if file.endswith('.csv'):\n",
    "        file_path = os.path.join(data_folder, file)\n",
    "        df = pd.read_csv(file_path)\n",
    "        print(f\"{file}: {df.shape}\")\n",
    "        table_name = file[:-4]  # Remove '.csv'\n",
    "        ingest_db(df, table_name, engine)"
   ]
  },
  {
   "cell_type": "code",
   "execution_count": null,
   "id": "59f69b19",
   "metadata": {},
   "outputs": [
    {
     "ename": "SyntaxError",
     "evalue": "unmatched ')' (3310823014.py, line 1)",
     "output_type": "error",
     "traceback": [
      "\u001b[1;36m  Cell \u001b[1;32mIn[7], line 1\u001b[1;36m\u001b[0m\n\u001b[1;33m    df.inspector.get_table_names())\u001b[0m\n\u001b[1;37m                                  ^\u001b[0m\n\u001b[1;31mSyntaxError\u001b[0m\u001b[1;31m:\u001b[0m unmatched ')'\n"
     ]
    }
   ],
   "source": [
    "print(\"\\nTables in DB:\", inspector.get_table_names())"
   ]
  }
 ],
 "metadata": {
  "kernelspec": {
   "display_name": "base",
   "language": "python",
   "name": "python3"
  },
  "language_info": {
   "codemirror_mode": {
    "name": "ipython",
    "version": 3
   },
   "file_extension": ".py",
   "mimetype": "text/x-python",
   "name": "python",
   "nbconvert_exporter": "python",
   "pygments_lexer": "ipython3",
   "version": "3.12.7"
  }
 },
 "nbformat": 4,
 "nbformat_minor": 5
}
